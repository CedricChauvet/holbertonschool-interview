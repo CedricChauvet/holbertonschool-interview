{
 "cells": [
  {
   "cell_type": "code",
   "execution_count": 3,
   "metadata": {},
   "outputs": [],
   "source": [
    "# !pip install requests\n",
    "import requests\n",
    "import json\n",
    "import re"
   ]
  },
  {
   "cell_type": "code",
   "execution_count": 26,
   "metadata": {},
   "outputs": [],
   "source": []
  },
  {
   "cell_type": "code",
   "execution_count": 51,
   "metadata": {},
   "outputs": [
    {
     "data": {
      "text/plain": [
       "{'kind': 't3',\n",
       " 'data': {'approved_at_utc': None,\n",
       "  'subreddit': 'programming',\n",
       "  'selftext': '',\n",
       "  'author_fullname': 't2_3imtm',\n",
       "  'saved': False,\n",
       "  'mod_reason_title': None,\n",
       "  'gilded': 0,\n",
       "  'clicked': False,\n",
       "  'title': 'Being Competent With Coding Is More Fun',\n",
       "  'link_flair_richtext': [],\n",
       "  'subreddit_name_prefixed': 'r/programming',\n",
       "  'hidden': False,\n",
       "  'pwls': 6,\n",
       "  'link_flair_css_class': None,\n",
       "  'downs': 0,\n",
       "  'top_awarded_type': None,\n",
       "  'hide_score': False,\n",
       "  'name': 't3_1fk9yif',\n",
       "  'quarantine': False,\n",
       "  'link_flair_text_color': 'dark',\n",
       "  'upvote_ratio': 0.83,\n",
       "  'author_flair_background_color': None,\n",
       "  'subreddit_type': 'public',\n",
       "  'ups': 199,\n",
       "  'total_awards_received': 0,\n",
       "  'media_embed': {'content': '&lt;iframe width=\"356\" height=\"200\" src=\"https://www.youtube.com/embed/qLC2pHw3tHM?feature=oembed&amp;enablejsapi=1\" frameborder=\"0\" allow=\"accelerometer; autoplay; clipboard-write; encrypted-media; gyroscope; picture-in-picture; web-share\" referrerpolicy=\"strict-origin-when-cross-origin\" allowfullscreen title=\"Being Competent With Coding Is More Fun\"&gt;&lt;/iframe&gt;',\n",
       "   'width': 356,\n",
       "   'scrolling': False,\n",
       "   'height': 200},\n",
       "  'author_flair_template_id': None,\n",
       "  'is_original_content': False,\n",
       "  'user_reports': [],\n",
       "  'secure_media': {'type': 'youtube.com',\n",
       "   'oembed': {'provider_url': 'https://www.youtube.com/',\n",
       "    'version': '1.0',\n",
       "    'title': 'Being Competent With Coding Is More Fun',\n",
       "    'type': 'video',\n",
       "    'thumbnail_width': 480,\n",
       "    'height': 200,\n",
       "    'width': 356,\n",
       "    'html': '&lt;iframe width=\"356\" height=\"200\" src=\"https://www.youtube.com/embed/qLC2pHw3tHM?feature=oembed&amp;enablejsapi=1\" frameborder=\"0\" allow=\"accelerometer; autoplay; clipboard-write; encrypted-media; gyroscope; picture-in-picture; web-share\" referrerpolicy=\"strict-origin-when-cross-origin\" allowfullscreen title=\"Being Competent With Coding Is More Fun\"&gt;&lt;/iframe&gt;',\n",
       "    'author_name': 'TheVimeagen',\n",
       "    'provider_name': 'YouTube',\n",
       "    'thumbnail_url': 'https://i.ytimg.com/vi/qLC2pHw3tHM/hqdefault.jpg',\n",
       "    'thumbnail_height': 360,\n",
       "    'author_url': 'https://www.youtube.com/@TheVimeagen'}},\n",
       "  'is_reddit_media_domain': False,\n",
       "  'is_meta': False,\n",
       "  'category': None,\n",
       "  'secure_media_embed': {'content': '&lt;iframe width=\"356\" height=\"200\" src=\"https://www.youtube.com/embed/qLC2pHw3tHM?feature=oembed&amp;enablejsapi=1\" frameborder=\"0\" allow=\"accelerometer; autoplay; clipboard-write; encrypted-media; gyroscope; picture-in-picture; web-share\" referrerpolicy=\"strict-origin-when-cross-origin\" allowfullscreen title=\"Being Competent With Coding Is More Fun\"&gt;&lt;/iframe&gt;',\n",
       "   'width': 356,\n",
       "   'scrolling': False,\n",
       "   'media_domain_url': 'https://www.redditmedia.com/mediaembed/1fk9yif',\n",
       "   'height': 200},\n",
       "  'link_flair_text': None,\n",
       "  'can_mod_post': False,\n",
       "  'score': 199,\n",
       "  'approved_by': None,\n",
       "  'is_created_from_ads_ui': False,\n",
       "  'author_premium': False,\n",
       "  'thumbnail': '',\n",
       "  'edited': False,\n",
       "  'author_flair_css_class': None,\n",
       "  'author_flair_richtext': [],\n",
       "  'gildings': {},\n",
       "  'content_categories': None,\n",
       "  'is_self': False,\n",
       "  'mod_note': None,\n",
       "  'created': 1726711467.0,\n",
       "  'link_flair_type': 'text',\n",
       "  'wls': 6,\n",
       "  'removed_by_category': None,\n",
       "  'banned_by': None,\n",
       "  'author_flair_type': 'text',\n",
       "  'domain': 'youtube.com',\n",
       "  'allow_live_comments': False,\n",
       "  'selftext_html': None,\n",
       "  'likes': None,\n",
       "  'suggested_sort': None,\n",
       "  'banned_at_utc': None,\n",
       "  'url_overridden_by_dest': 'https://www.youtube.com/watch?v=qLC2pHw3tHM',\n",
       "  'view_count': None,\n",
       "  'archived': False,\n",
       "  'no_follow': False,\n",
       "  'is_crosspostable': False,\n",
       "  'pinned': False,\n",
       "  'over_18': False,\n",
       "  'all_awardings': [],\n",
       "  'awarders': [],\n",
       "  'media_only': False,\n",
       "  'can_gild': False,\n",
       "  'spoiler': False,\n",
       "  'locked': False,\n",
       "  'author_flair_text': None,\n",
       "  'treatment_tags': [],\n",
       "  'visited': False,\n",
       "  'removed_by': None,\n",
       "  'num_reports': None,\n",
       "  'distinguished': None,\n",
       "  'subreddit_id': 't5_2fwo',\n",
       "  'author_is_blocked': False,\n",
       "  'mod_reason_by': None,\n",
       "  'removal_reason': None,\n",
       "  'link_flair_background_color': '',\n",
       "  'id': '1fk9yif',\n",
       "  'is_robot_indexable': True,\n",
       "  'report_reasons': None,\n",
       "  'author': 'gobr',\n",
       "  'discussion_type': None,\n",
       "  'num_comments': 75,\n",
       "  'send_replies': True,\n",
       "  'whitelist_status': 'all_ads',\n",
       "  'contest_mode': False,\n",
       "  'mod_reports': [],\n",
       "  'author_patreon_flair': False,\n",
       "  'author_flair_text_color': None,\n",
       "  'permalink': '/r/programming/comments/1fk9yif/being_competent_with_coding_is_more_fun/',\n",
       "  'parent_whitelist_status': 'all_ads',\n",
       "  'stickied': False,\n",
       "  'url': 'https://www.youtube.com/watch?v=qLC2pHw3tHM',\n",
       "  'subreddit_subscribers': 6451806,\n",
       "  'created_utc': 1726711467.0,\n",
       "  'num_crossposts': 0,\n",
       "  'media': {'type': 'youtube.com',\n",
       "   'oembed': {'provider_url': 'https://www.youtube.com/',\n",
       "    'version': '1.0',\n",
       "    'title': 'Being Competent With Coding Is More Fun',\n",
       "    'type': 'video',\n",
       "    'thumbnail_width': 480,\n",
       "    'height': 200,\n",
       "    'width': 356,\n",
       "    'html': '&lt;iframe width=\"356\" height=\"200\" src=\"https://www.youtube.com/embed/qLC2pHw3tHM?feature=oembed&amp;enablejsapi=1\" frameborder=\"0\" allow=\"accelerometer; autoplay; clipboard-write; encrypted-media; gyroscope; picture-in-picture; web-share\" referrerpolicy=\"strict-origin-when-cross-origin\" allowfullscreen title=\"Being Competent With Coding Is More Fun\"&gt;&lt;/iframe&gt;',\n",
       "    'author_name': 'TheVimeagen',\n",
       "    'provider_name': 'YouTube',\n",
       "    'thumbnail_url': 'https://i.ytimg.com/vi/qLC2pHw3tHM/hqdefault.jpg',\n",
       "    'thumbnail_height': 360,\n",
       "    'author_url': 'https://www.youtube.com/@TheVimeagen'}},\n",
       "  'is_video': False}}"
      ]
     },
     "execution_count": 51,
     "metadata": {},
     "output_type": "execute_result"
    }
   ],
   "source": [
    "# Effectuer la requête GET\n",
    "url = 'https://www.reddit.com/r/programming/hot.json'\n",
    "response = requests.get(url)\n",
    "\n",
    "# Extraire le contenu JSON\n",
    "data = response.json()\n",
    "\n",
    "# Afficher le JSON de manière lisible avec indentation\n",
    "json_string = json.dumps(data, indent=4)\n",
    "data['data'][\"children\"][3]"
   ]
  },
  {
   "cell_type": "markdown",
   "metadata": {},
   "source": [
    "exemple basique pour compter un element parmis les titres"
   ]
  },
  {
   "cell_type": "code",
   "execution_count": 89,
   "metadata": {},
   "outputs": [
    {
     "name": "stdout",
     "output_type": "stream",
     "text": [
      "nombre de titres : 26\n",
      "The State of the Subreddit (May 2024) Stop Designing Your Web Application for Millions of Users When You Don't Even Have 100 AI-Generated Code is Causing Outages and Security Issues in Businesses Being Competent With Coding Is More Fun The empire of C++ strikes back with Safe C++ proposal Stop using SERIAL in Postgres The technology behind GitHub’s new code search System Design Practice Channel  Advanced Python Type Hints That Will Improve Your Code Significantly The Elegance of the ASCII Table torvalds talks about the recent c versus rust drama The Hidden Costs of Over-Collaboration A Basis for a Mathematical Theory of Computation CSS Dark Mode: A Comprehensive Guide - Makemychance Why Data in Enterprise Keeps Breaking Turn your blog into a book I develop a simple but universal logger for C/C++ projects. What do you value in a logging library? OpenTelemetry Tracing in 200 lines of code Postgres Materialized Views from Parquet in S3 with Zero ETL Nodepp for C++ Stream Manipulation: A Comprehensive Overview The New Internet From Tiny Seeds Grow Mighty Trees: Try New Tree of Thoughts LLM Generate Wasm bindings using OpenAPI-format schemas The Best Programmer I Know How to Create Stunning Glowing Text Effects with CSS\n",
      " Window Functions for Data Analysis with Postgres\n",
      "Le mot the apparaît 12 fois.\n"
     ]
    }
   ],
   "source": [
    "\n",
    "# Récupérer tous les titres\n",
    "titres = [article['data']['title'] for article in data['data']['children']]\n",
    "print(\"nombre de titres :\", len(titres))    \n",
    "# Concaténer sans séparateur\n",
    "\n",
    "list = [\"the\"]\n",
    "result = \" \".join(titres)\n",
    "print(result)\n",
    "count_python = result.lower().count(list[0])\n",
    "print(f\"Le mot {list[0]} apparaît {count_python} fois.\")  # Affichera 3\n"
   ]
  },
  {
   "cell_type": "code",
   "execution_count": 35,
   "metadata": {},
   "outputs": [],
   "source": [
    "def parcourir_liste_recursif(liste, result):\n",
    "    # Condition d'arrêt : Si la liste est vide, on arrête\n",
    "    if not liste:\n",
    "        return\n",
    "    liste[0] = liste[0].lower()\n",
    "    pattern = r'\\b' + liste[0]+ r'\\b' #expression regex pour le mot complet\n",
    "    count_python =  len(re.findall(pattern, result)) #utilisation de re\n",
    "    #count_python = result.count(liste[0])\n",
    "    print(f\"Le mot {liste[0]} apparaît {count_python} fois.\")  \n",
    "    \n",
    "    # Appeler la fonction récursive sur le reste de la liste (sauf le premier élément)\n",
    "    parcourir_liste_recursif(liste[1:],result)\n"
   ]
  },
  {
   "cell_type": "code",
   "execution_count": 39,
   "metadata": {},
   "outputs": [
    {
     "name": "stdout",
     "output_type": "stream",
     "text": [
      "nombre de titres : 26\n",
      "Le mot the apparaît 8 fois.\n",
      "Le mot stop apparaît 2 fois.\n",
      "Le mot code apparaît 3 fois.\n"
     ]
    }
   ],
   "source": [
    "titres = [article['data']['title'] for article in data['data']['children']]\n",
    "result = \" \".join(titres)\n",
    "result = result.lower()\n",
    "print(\"nombre de titres :\", len(titres))   \n",
    "\n",
    "hotlist = [\"The\", \"stop\", \"code\"]\n",
    "\n",
    "parcourir_liste_recursif(hotlist, result)"
   ]
  },
  {
   "cell_type": "code",
   "execution_count": 37,
   "metadata": {},
   "outputs": [
    {
     "name": "stdout",
     "output_type": "stream",
     "text": [
      "fin ['The State of the Subreddit (May 2024)', \"Stop Designing Your Web Application for Millions of Users When You Don't Even Have 100\", 'AI-Generated Code is Causing Outages and Security Issues in Businesses', 'Being Competent With Coding Is More Fun', 'Why did we build another documentation product in 2024?', 'The empire of C++ strikes back with Safe C++ proposal', 'Advanced Python Type Hints That Will Improve Your Code Significantly', 'Stop using SERIAL in Postgres', 'Fair Source licensing can work if adopted early and openly', 'Building a Developer Platform in 2025', 'The technology behind GitHub’s new code search', 'Project-PythOyO, I made a UyU programming language, A whimsical languge written in Python', 'Learning Systems Thinking • Diana Montalion &amp; Charles Humble', 'CSS Dark Mode: A Comprehensive Guide - Makemychance', 'System Design Practice Channel ', 'Do these improvements in your resume to land jobs in 2024 | Tips &amp; Advice [Bagged MAANG SDE Interviews]', 'torvalds talks about the recent c versus rust drama', 'The Elegance of the ASCII Table', 'Getting Started with Go: A Beginner’s Guide to Google’s Programming Language', 'Why Data in Enterprise Keeps Breaking', 'A Basis for a Mathematical Theory of Computation', 'The Hidden Costs of Over-Collaboration', 'Turn your blog into a book', 'SaaS-level charging system is fully open source: enterprise-level questionnaire system makes research easier', 'I develop a simple but universal logger for C/C++ projects. What do you value in a logging library?', 'Elixir Macros Demystified, part 3: defmacro and require']\n"
     ]
    }
   ],
   "source": [
    "print(\"fin\", titres)"
   ]
  }
 ],
 "metadata": {
  "kernelspec": {
   "display_name": "py38",
   "language": "python",
   "name": "python3"
  },
  "language_info": {
   "codemirror_mode": {
    "name": "ipython",
    "version": 3
   },
   "file_extension": ".py",
   "mimetype": "text/x-python",
   "name": "python",
   "nbconvert_exporter": "python",
   "pygments_lexer": "ipython3",
   "version": "3.8.19"
  }
 },
 "nbformat": 4,
 "nbformat_minor": 2
}
